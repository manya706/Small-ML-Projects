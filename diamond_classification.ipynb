{
  "nbformat": 4,
  "nbformat_minor": 0,
  "metadata": {
    "colab": {
      "provenance": [],
      "authorship_tag": "ABX9TyMdatlejE3Z+wNu0X1T43cc",
      "include_colab_link": true
    },
    "kernelspec": {
      "name": "python3",
      "display_name": "Python 3"
    },
    "language_info": {
      "name": "python"
    }
  },
  "cells": [
    {
      "cell_type": "markdown",
      "metadata": {
        "id": "view-in-github",
        "colab_type": "text"
      },
      "source": [
        "<a href=\"https://colab.research.google.com/github/manya706/Small-ML-Projects/blob/main/diamond_classification.ipynb\" target=\"_parent\"><img src=\"https://colab.research.google.com/assets/colab-badge.svg\" alt=\"Open In Colab\"/></a>"
      ]
    },
    {
      "cell_type": "code",
      "execution_count": null,
      "metadata": {
        "colab": {
          "base_uri": "https://localhost:8080/"
        },
        "id": "X21jzzCMKwZ5",
        "outputId": "0ad75348-e37d-48c6-f896-3acf0d5c4210"
      },
      "outputs": [
        {
          "output_type": "stream",
          "name": "stdout",
          "text": [
            "First 5 rows:\n",
            "   carat      cut color clarity  depth  table  price     x     y     z\n",
            "0   0.23    Ideal     E     SI2   61.5   55.0    326  3.95  3.98  2.43\n",
            "1   0.21  Premium     E     SI1   59.8   61.0    326  3.89  3.84  2.31\n",
            "2   0.23     Good     E     VS1   56.9   65.0    327  4.05  4.07  2.31\n",
            "3   0.29  Premium     I     VS2   62.4   58.0    334  4.20  4.23  2.63\n",
            "4   0.31     Good     J     SI2   63.3   58.0    335  4.34  4.35  2.75\n"
          ]
        }
      ],
      "source": [
        "import pandas as pd\n",
        "pd.set_option('display.max_rows', 50)\n",
        "pd.set_option('display.max_columns', 50)\n",
        "diamonds = pd.read_csv('https://raw.githubusercontent.com/mwaskom/seaborn-data/master/diamonds.csv')\n",
        "print(\"First 5 rows:\")\n",
        "print(diamonds.head())"
      ]
    },
    {
      "cell_type": "code",
      "source": [
        "import pandas as pd\n",
        "user_cols = ['carat', 'cut', 'table', 'depth', 'color']\n",
        "diamonds = pd.read_csv('https://raw.githubusercontent.com/mwaskom/seaborn-data/master/diamonds.csv')\n",
        "\n",
        "print(diamonds[user_cols].head(6))"
      ],
      "metadata": {
        "colab": {
          "base_uri": "https://localhost:8080/"
        },
        "id": "vPHOQ5yILHz7",
        "outputId": "0e6355a9-ddb4-4c8c-f7c5-97c5cc5d0c49"
      },
      "execution_count": null,
      "outputs": [
        {
          "output_type": "stream",
          "name": "stdout",
          "text": [
            "   carat        cut  table  depth color\n",
            "0   0.23      Ideal   55.0   61.5     E\n",
            "1   0.21    Premium   61.0   59.8     E\n",
            "2   0.23       Good   65.0   56.9     E\n",
            "3   0.29    Premium   58.0   62.4     I\n",
            "4   0.31       Good   58.0   63.3     J\n",
            "5   0.24  Very Good   57.0   62.8     J\n"
          ]
        }
      ]
    },
    {
      "cell_type": "code",
      "source": [
        "import pandas as pd\n",
        "diamonds = pd.read_csv('https://raw.githubusercontent.com/mwaskom/seaborn-data/master/diamonds.csv')\n",
        "print(diamonds['carat'])"
      ],
      "metadata": {
        "colab": {
          "base_uri": "https://localhost:8080/"
        },
        "id": "gK7CDptLMFUi",
        "outputId": "46549b10-cc97-4e28-b22d-4ecc6f00277e"
      },
      "execution_count": null,
      "outputs": [
        {
          "output_type": "stream",
          "name": "stdout",
          "text": [
            "0        0.23\n",
            "1        0.21\n",
            "2        0.23\n",
            "3        0.29\n",
            "4        0.31\n",
            "         ... \n",
            "53935    0.72\n",
            "53936    0.72\n",
            "53937    0.70\n",
            "53938    0.86\n",
            "53939    0.75\n",
            "Name: carat, Length: 53940, dtype: float64\n"
          ]
        }
      ]
    },
    {
      "cell_type": "code",
      "source": [
        "import pandas as pd\n",
        "diamonds = pd.read_csv('https://raw.githubusercontent.com/mwaskom/seaborn-data/master/diamonds.csv')\n",
        "print(diamonds['cut'])"
      ],
      "metadata": {
        "colab": {
          "base_uri": "https://localhost:8080/"
        },
        "id": "3Wg02GbwMW9R",
        "outputId": "639bf768-833b-42a9-d163-61b479a2ee97"
      },
      "execution_count": null,
      "outputs": [
        {
          "output_type": "stream",
          "name": "stdout",
          "text": [
            "0            Ideal\n",
            "1          Premium\n",
            "2             Good\n",
            "3          Premium\n",
            "4             Good\n",
            "           ...    \n",
            "53935        Ideal\n",
            "53936         Good\n",
            "53937    Very Good\n",
            "53938      Premium\n",
            "53939        Ideal\n",
            "Name: cut, Length: 53940, dtype: object\n"
          ]
        }
      ]
    },
    {
      "cell_type": "code",
      "source": [
        "import pandas as pd\n",
        "diamonds = pd.read_csv('https://raw.githubusercontent.com/mwaskom/seaborn-data/master/diamonds.csv')\n",
        "diamonds['Quality–color'] = diamonds.clarity + '- ' + diamonds.cut\n",
        "print(diamonds.head())"
      ],
      "metadata": {
        "colab": {
          "base_uri": "https://localhost:8080/"
        },
        "id": "07Ay4OFjMaZh",
        "outputId": "a477363b-aecb-4a98-a38e-8e97296f815c"
      },
      "execution_count": null,
      "outputs": [
        {
          "output_type": "stream",
          "name": "stdout",
          "text": [
            "   carat      cut color clarity  depth  table  price     x     y     z  \\\n",
            "0   0.23    Ideal     E     SI2   61.5   55.0    326  3.95  3.98  2.43   \n",
            "1   0.21  Premium     E     SI1   59.8   61.0    326  3.89  3.84  2.31   \n",
            "2   0.23     Good     E     VS1   56.9   65.0    327  4.05  4.07  2.31   \n",
            "3   0.29  Premium     I     VS2   62.4   58.0    334  4.20  4.23  2.63   \n",
            "4   0.31     Good     J     SI2   63.3   58.0    335  4.34  4.35  2.75   \n",
            "\n",
            "  Quality–color  \n",
            "0    SI2- Ideal  \n",
            "1  SI1- Premium  \n",
            "2     VS1- Good  \n",
            "3  VS2- Premium  \n",
            "4     SI2- Good  \n"
          ]
        }
      ]
    },
    {
      "cell_type": "code",
      "source": [
        "import pandas as pd\n",
        "diamonds = pd.read_csv('https://raw.githubusercontent.com/mwaskom/seaborn-data/master/diamonds.csv')\n",
        "print(diamonds.shape)\n",
        "print(diamonds.dtypes)"
      ],
      "metadata": {
        "colab": {
          "base_uri": "https://localhost:8080/"
        },
        "id": "7TJ4mkExM4-T",
        "outputId": "3c41a280-8b2a-495a-a57c-26fc8abb978f"
      },
      "execution_count": null,
      "outputs": [
        {
          "output_type": "stream",
          "name": "stdout",
          "text": [
            "(53940, 10)\n",
            "carat      float64\n",
            "cut         object\n",
            "color       object\n",
            "clarity     object\n",
            "depth      float64\n",
            "table      float64\n",
            "price        int64\n",
            "x          float64\n",
            "y          float64\n",
            "z          float64\n",
            "dtype: object\n"
          ]
        }
      ]
    },
    {
      "cell_type": "code",
      "source": [
        "import pandas as pd\n",
        "diamonds = pd.read_csv('https://raw.githubusercontent.com/mwaskom/seaborn-data/master/diamonds.csv')\n",
        "print(diamonds.describe(include=['object']))"
      ],
      "metadata": {
        "colab": {
          "base_uri": "https://localhost:8080/"
        },
        "id": "v-lXPSCcNkby",
        "outputId": "694670ab-26e6-48dc-bf5c-715280de7f68"
      },
      "execution_count": null,
      "outputs": [
        {
          "output_type": "stream",
          "name": "stdout",
          "text": [
            "          cut  color clarity\n",
            "count   53940  53940   53940\n",
            "unique      5      7       8\n",
            "top     Ideal      G     SI1\n",
            "freq    21551  11292   13065\n"
          ]
        }
      ]
    },
    {
      "cell_type": "code",
      "source": [
        "import pandas as pd\n",
        "diamonds = pd.read_csv('https://raw.githubusercontent.com/mwaskom/seaborn-data/master/diamonds.csv')\n",
        "print(diamonds.head())\n",
        "print(diamonds.loc[diamonds.cut=='Premium', 'color'])"
      ],
      "metadata": {
        "colab": {
          "base_uri": "https://localhost:8080/"
        },
        "id": "j1TrDU5VOS1i",
        "outputId": "365adf81-a594-4f9e-dfc6-004b2e570510"
      },
      "execution_count": null,
      "outputs": [
        {
          "output_type": "stream",
          "name": "stdout",
          "text": [
            "   carat      cut color clarity  depth  table  price     x     y     z\n",
            "0   0.23    Ideal     E     SI2   61.5   55.0    326  3.95  3.98  2.43\n",
            "1   0.21  Premium     E     SI1   59.8   61.0    326  3.89  3.84  2.31\n",
            "2   0.23     Good     E     VS1   56.9   65.0    327  4.05  4.07  2.31\n",
            "3   0.29  Premium     I     VS2   62.4   58.0    334  4.20  4.23  2.63\n",
            "4   0.31     Good     J     SI2   63.3   58.0    335  4.34  4.35  2.75\n",
            "1        E\n",
            "3        I\n",
            "12       F\n",
            "14       E\n",
            "15       E\n",
            "        ..\n",
            "53928    E\n",
            "53930    E\n",
            "53931    F\n",
            "53934    D\n",
            "53938    H\n",
            "Name: color, Length: 13791, dtype: object\n"
          ]
        }
      ]
    },
    {
      "cell_type": "code",
      "source": [
        "import pandas as pd\n",
        "diamonds = pd.read_csv('https://raw.githubusercontent.com/mwaskom/seaborn-data/master/diamonds.csv')\n",
        "print(diamonds.head())\n",
        "print(pd.concat([diamonds, diamonds.color], axis=1).head())"
      ],
      "metadata": {
        "colab": {
          "base_uri": "https://localhost:8080/"
        },
        "id": "cEOEXaAIOhcJ",
        "outputId": "09a71f94-5886-45d3-9815-8a4f34ce047a"
      },
      "execution_count": null,
      "outputs": [
        {
          "output_type": "stream",
          "name": "stdout",
          "text": [
            "   carat      cut color clarity  depth  table  price     x     y     z\n",
            "0   0.23    Ideal     E     SI2   61.5   55.0    326  3.95  3.98  2.43\n",
            "1   0.21  Premium     E     SI1   59.8   61.0    326  3.89  3.84  2.31\n",
            "2   0.23     Good     E     VS1   56.9   65.0    327  4.05  4.07  2.31\n",
            "3   0.29  Premium     I     VS2   62.4   58.0    334  4.20  4.23  2.63\n",
            "4   0.31     Good     J     SI2   63.3   58.0    335  4.34  4.35  2.75\n",
            "   carat      cut color clarity  depth  table  price     x     y     z color\n",
            "0   0.23    Ideal     E     SI2   61.5   55.0    326  3.95  3.98  2.43     E\n",
            "1   0.21  Premium     E     SI1   59.8   61.0    326  3.89  3.84  2.31     E\n",
            "2   0.23     Good     E     VS1   56.9   65.0    327  4.05  4.07  2.31     E\n",
            "3   0.29  Premium     I     VS2   62.4   58.0    334  4.20  4.23  2.63     I\n",
            "4   0.31     Good     J     SI2   63.3   58.0    335  4.34  4.35  2.75     J\n"
          ]
        }
      ]
    },
    {
      "cell_type": "code",
      "source": [
        "import pandas as pd\n",
        "diamonds = pd.read_csv('https://raw.githubusercontent.com/mwaskom/seaborn-data/master/diamonds.csv')\n",
        "print(diamonds.head())\n",
        "print((diamonds.x*diamonds.y*diamonds.z).head())"
      ],
      "metadata": {
        "colab": {
          "base_uri": "https://localhost:8080/"
        },
        "id": "ZKgovNc9Omqy",
        "outputId": "a6ddbd27-b1fc-4571-a917-7335a35a0aab"
      },
      "execution_count": null,
      "outputs": [
        {
          "output_type": "stream",
          "name": "stdout",
          "text": [
            "   carat      cut color clarity  depth  table  price     x     y     z\n",
            "0   0.23    Ideal     E     SI2   61.5   55.0    326  3.95  3.98  2.43\n",
            "1   0.21  Premium     E     SI1   59.8   61.0    326  3.89  3.84  2.31\n",
            "2   0.23     Good     E     VS1   56.9   65.0    327  4.05  4.07  2.31\n",
            "3   0.29  Premium     I     VS2   62.4   58.0    334  4.20  4.23  2.63\n",
            "4   0.31     Good     J     SI2   63.3   58.0    335  4.34  4.35  2.75\n",
            "0    38.202030\n",
            "1    34.505856\n",
            "2    38.076885\n",
            "3    46.724580\n",
            "4    51.917250\n",
            "dtype: float64\n"
          ]
        }
      ]
    },
    {
      "cell_type": "code",
      "source": [
        "import pandas as pd\n",
        "diamonds = pd.read_csv('https://raw.githubusercontent.com/mwaskom/seaborn-data/master/diamonds.csv')\n",
        "print(diamonds.head())\n",
        "print(diamonds.shape)\n",
        "print(diamonds.dropna(how='any').shape)"
      ],
      "metadata": {
        "colab": {
          "base_uri": "https://localhost:8080/"
        },
        "id": "_g8wnyGnO2WC",
        "outputId": "d1bb859c-dbf4-459c-abb5-6cdb42667c79"
      },
      "execution_count": null,
      "outputs": [
        {
          "output_type": "stream",
          "name": "stdout",
          "text": [
            "   carat      cut color clarity  depth  table  price     x     y     z\n",
            "0   0.23    Ideal     E     SI2   61.5   55.0    326  3.95  3.98  2.43\n",
            "1   0.21  Premium     E     SI1   59.8   61.0    326  3.89  3.84  2.31\n",
            "2   0.23     Good     E     VS1   56.9   65.0    327  4.05  4.07  2.31\n",
            "3   0.29  Premium     I     VS2   62.4   58.0    334  4.20  4.23  2.63\n",
            "4   0.31     Good     J     SI2   63.3   58.0    335  4.34  4.35  2.75\n",
            "(53940, 10)\n",
            "(53940, 10)\n"
          ]
        }
      ]
    },
    {
      "cell_type": "code",
      "source": [
        "import pandas as pd\n",
        "diamonds = pd.read_csv('https://raw.githubusercontent.com/mwaskom/seaborn-data/master/diamonds.csv')\n",
        "print(diamonds.head())\n",
        "print(diamonds.dropna(subset=['carat', 'cut']).shape)\n",
        "print(diamonds.dropna(subset=['carat', 'cut']).shape)"
      ],
      "metadata": {
        "colab": {
          "base_uri": "https://localhost:8080/"
        },
        "id": "sy42bphPO71a",
        "outputId": "1ece90d3-cfcd-49f7-b2a0-0c7c26f14dae"
      },
      "execution_count": null,
      "outputs": [
        {
          "output_type": "stream",
          "name": "stdout",
          "text": [
            "   carat      cut color clarity  depth  table  price     x     y     z\n",
            "0   0.23    Ideal     E     SI2   61.5   55.0    326  3.95  3.98  2.43\n",
            "1   0.21  Premium     E     SI1   59.8   61.0    326  3.89  3.84  2.31\n",
            "2   0.23     Good     E     VS1   56.9   65.0    327  4.05  4.07  2.31\n",
            "3   0.29  Premium     I     VS2   62.4   58.0    334  4.20  4.23  2.63\n",
            "4   0.31     Good     J     SI2   63.3   58.0    335  4.34  4.35  2.75\n",
            "(53940, 10)\n",
            "(53940, 10)\n"
          ]
        }
      ]
    }
  ]
}