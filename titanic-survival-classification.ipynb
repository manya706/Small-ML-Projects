{
 "cells": [
  {
   "cell_type": "code",
   "execution_count": 1,
   "id": "ceb7add7",
   "metadata": {
    "_cell_guid": "b1076dfc-b9ad-4769-8c92-a6c4dae69d19",
    "_uuid": "8f2839f25d086af736a60e9eeb907d3b93b6e0e5",
    "execution": {
     "iopub.execute_input": "2023-06-22T09:41:05.921157Z",
     "iopub.status.busy": "2023-06-22T09:41:05.920636Z",
     "iopub.status.idle": "2023-06-22T09:41:05.937570Z",
     "shell.execute_reply": "2023-06-22T09:41:05.935889Z"
    },
    "papermill": {
     "duration": 0.03073,
     "end_time": "2023-06-22T09:41:05.940203",
     "exception": false,
     "start_time": "2023-06-22T09:41:05.909473",
     "status": "completed"
    },
    "tags": []
   },
   "outputs": [
    {
     "name": "stdout",
     "output_type": "stream",
     "text": [
      "/kaggle/input/titanic/train.csv\n",
      "/kaggle/input/titanic/test.csv\n",
      "/kaggle/input/titanic/gender_submission.csv\n"
     ]
    }
   ],
   "source": [
    "# This Python 3 environment comes with many helpful analytics libraries installed\n",
    "# It is defined by the kaggle/python Docker image: https://github.com/kaggle/docker-python\n",
    "# For example, here's several helpful packages to load\n",
    "\n",
    "import numpy as np # linear algebra\n",
    "import pandas as pd # data processing, CSV file I/O (e.g. pd.read_csv)\n",
    "\n",
    "# Input data files are available in the read-only \"../input/\" directory\n",
    "# For example, running this (by clicking run or pressing Shift+Enter) will list all files under the input directory\n",
    "\n",
    "import os\n",
    "for dirname, _, filenames in os.walk('/kaggle/input'):\n",
    "    for filename in filenames:\n",
    "        print(os.path.join(dirname, filename))\n",
    "\n",
    "# You can write up to 20GB to the current directory (/kaggle/working/) that gets preserved as output when you create a version using \"Save & Run All\" \n",
    "# You can also write temporary files to /kaggle/temp/, but they won't be saved outside of the current session"
   ]
  },
  {
   "cell_type": "code",
   "execution_count": 2,
   "id": "94cb4b21",
   "metadata": {
    "execution": {
     "iopub.execute_input": "2023-06-22T09:41:05.957889Z",
     "iopub.status.busy": "2023-06-22T09:41:05.956807Z",
     "iopub.status.idle": "2023-06-22T09:41:06.025641Z",
     "shell.execute_reply": "2023-06-22T09:41:06.023857Z"
    },
    "papermill": {
     "duration": 0.080404,
     "end_time": "2023-06-22T09:41:06.028251",
     "exception": false,
     "start_time": "2023-06-22T09:41:05.947847",
     "status": "completed"
    },
    "tags": []
   },
   "outputs": [
    {
     "data": {
      "text/html": [
       "<div>\n",
       "<style scoped>\n",
       "    .dataframe tbody tr th:only-of-type {\n",
       "        vertical-align: middle;\n",
       "    }\n",
       "\n",
       "    .dataframe tbody tr th {\n",
       "        vertical-align: top;\n",
       "    }\n",
       "\n",
       "    .dataframe thead th {\n",
       "        text-align: right;\n",
       "    }\n",
       "</style>\n",
       "<table border=\"1\" class=\"dataframe\">\n",
       "  <thead>\n",
       "    <tr style=\"text-align: right;\">\n",
       "      <th></th>\n",
       "      <th>PassengerId</th>\n",
       "      <th>Survived</th>\n",
       "      <th>Pclass</th>\n",
       "      <th>Name</th>\n",
       "      <th>Sex</th>\n",
       "      <th>Age</th>\n",
       "      <th>SibSp</th>\n",
       "      <th>Parch</th>\n",
       "      <th>Ticket</th>\n",
       "      <th>Fare</th>\n",
       "      <th>Cabin</th>\n",
       "      <th>Embarked</th>\n",
       "    </tr>\n",
       "  </thead>\n",
       "  <tbody>\n",
       "    <tr>\n",
       "      <th>0</th>\n",
       "      <td>1</td>\n",
       "      <td>0</td>\n",
       "      <td>3</td>\n",
       "      <td>Braund, Mr. Owen Harris</td>\n",
       "      <td>male</td>\n",
       "      <td>22.0</td>\n",
       "      <td>1</td>\n",
       "      <td>0</td>\n",
       "      <td>A/5 21171</td>\n",
       "      <td>7.2500</td>\n",
       "      <td>NaN</td>\n",
       "      <td>S</td>\n",
       "    </tr>\n",
       "    <tr>\n",
       "      <th>1</th>\n",
       "      <td>2</td>\n",
       "      <td>1</td>\n",
       "      <td>1</td>\n",
       "      <td>Cumings, Mrs. John Bradley (Florence Briggs Th...</td>\n",
       "      <td>female</td>\n",
       "      <td>38.0</td>\n",
       "      <td>1</td>\n",
       "      <td>0</td>\n",
       "      <td>PC 17599</td>\n",
       "      <td>71.2833</td>\n",
       "      <td>C85</td>\n",
       "      <td>C</td>\n",
       "    </tr>\n",
       "    <tr>\n",
       "      <th>2</th>\n",
       "      <td>3</td>\n",
       "      <td>1</td>\n",
       "      <td>3</td>\n",
       "      <td>Heikkinen, Miss. Laina</td>\n",
       "      <td>female</td>\n",
       "      <td>26.0</td>\n",
       "      <td>0</td>\n",
       "      <td>0</td>\n",
       "      <td>STON/O2. 3101282</td>\n",
       "      <td>7.9250</td>\n",
       "      <td>NaN</td>\n",
       "      <td>S</td>\n",
       "    </tr>\n",
       "    <tr>\n",
       "      <th>3</th>\n",
       "      <td>4</td>\n",
       "      <td>1</td>\n",
       "      <td>1</td>\n",
       "      <td>Futrelle, Mrs. Jacques Heath (Lily May Peel)</td>\n",
       "      <td>female</td>\n",
       "      <td>35.0</td>\n",
       "      <td>1</td>\n",
       "      <td>0</td>\n",
       "      <td>113803</td>\n",
       "      <td>53.1000</td>\n",
       "      <td>C123</td>\n",
       "      <td>S</td>\n",
       "    </tr>\n",
       "    <tr>\n",
       "      <th>4</th>\n",
       "      <td>5</td>\n",
       "      <td>0</td>\n",
       "      <td>3</td>\n",
       "      <td>Allen, Mr. William Henry</td>\n",
       "      <td>male</td>\n",
       "      <td>35.0</td>\n",
       "      <td>0</td>\n",
       "      <td>0</td>\n",
       "      <td>373450</td>\n",
       "      <td>8.0500</td>\n",
       "      <td>NaN</td>\n",
       "      <td>S</td>\n",
       "    </tr>\n",
       "    <tr>\n",
       "      <th>...</th>\n",
       "      <td>...</td>\n",
       "      <td>...</td>\n",
       "      <td>...</td>\n",
       "      <td>...</td>\n",
       "      <td>...</td>\n",
       "      <td>...</td>\n",
       "      <td>...</td>\n",
       "      <td>...</td>\n",
       "      <td>...</td>\n",
       "      <td>...</td>\n",
       "      <td>...</td>\n",
       "      <td>...</td>\n",
       "    </tr>\n",
       "    <tr>\n",
       "      <th>886</th>\n",
       "      <td>887</td>\n",
       "      <td>0</td>\n",
       "      <td>2</td>\n",
       "      <td>Montvila, Rev. Juozas</td>\n",
       "      <td>male</td>\n",
       "      <td>27.0</td>\n",
       "      <td>0</td>\n",
       "      <td>0</td>\n",
       "      <td>211536</td>\n",
       "      <td>13.0000</td>\n",
       "      <td>NaN</td>\n",
       "      <td>S</td>\n",
       "    </tr>\n",
       "    <tr>\n",
       "      <th>887</th>\n",
       "      <td>888</td>\n",
       "      <td>1</td>\n",
       "      <td>1</td>\n",
       "      <td>Graham, Miss. Margaret Edith</td>\n",
       "      <td>female</td>\n",
       "      <td>19.0</td>\n",
       "      <td>0</td>\n",
       "      <td>0</td>\n",
       "      <td>112053</td>\n",
       "      <td>30.0000</td>\n",
       "      <td>B42</td>\n",
       "      <td>S</td>\n",
       "    </tr>\n",
       "    <tr>\n",
       "      <th>888</th>\n",
       "      <td>889</td>\n",
       "      <td>0</td>\n",
       "      <td>3</td>\n",
       "      <td>Johnston, Miss. Catherine Helen \"Carrie\"</td>\n",
       "      <td>female</td>\n",
       "      <td>NaN</td>\n",
       "      <td>1</td>\n",
       "      <td>2</td>\n",
       "      <td>W./C. 6607</td>\n",
       "      <td>23.4500</td>\n",
       "      <td>NaN</td>\n",
       "      <td>S</td>\n",
       "    </tr>\n",
       "    <tr>\n",
       "      <th>889</th>\n",
       "      <td>890</td>\n",
       "      <td>1</td>\n",
       "      <td>1</td>\n",
       "      <td>Behr, Mr. Karl Howell</td>\n",
       "      <td>male</td>\n",
       "      <td>26.0</td>\n",
       "      <td>0</td>\n",
       "      <td>0</td>\n",
       "      <td>111369</td>\n",
       "      <td>30.0000</td>\n",
       "      <td>C148</td>\n",
       "      <td>C</td>\n",
       "    </tr>\n",
       "    <tr>\n",
       "      <th>890</th>\n",
       "      <td>891</td>\n",
       "      <td>0</td>\n",
       "      <td>3</td>\n",
       "      <td>Dooley, Mr. Patrick</td>\n",
       "      <td>male</td>\n",
       "      <td>32.0</td>\n",
       "      <td>0</td>\n",
       "      <td>0</td>\n",
       "      <td>370376</td>\n",
       "      <td>7.7500</td>\n",
       "      <td>NaN</td>\n",
       "      <td>Q</td>\n",
       "    </tr>\n",
       "  </tbody>\n",
       "</table>\n",
       "<p>891 rows × 12 columns</p>\n",
       "</div>"
      ],
      "text/plain": [
       "     PassengerId  Survived  Pclass  \\\n",
       "0              1         0       3   \n",
       "1              2         1       1   \n",
       "2              3         1       3   \n",
       "3              4         1       1   \n",
       "4              5         0       3   \n",
       "..           ...       ...     ...   \n",
       "886          887         0       2   \n",
       "887          888         1       1   \n",
       "888          889         0       3   \n",
       "889          890         1       1   \n",
       "890          891         0       3   \n",
       "\n",
       "                                                  Name     Sex   Age  SibSp  \\\n",
       "0                              Braund, Mr. Owen Harris    male  22.0      1   \n",
       "1    Cumings, Mrs. John Bradley (Florence Briggs Th...  female  38.0      1   \n",
       "2                               Heikkinen, Miss. Laina  female  26.0      0   \n",
       "3         Futrelle, Mrs. Jacques Heath (Lily May Peel)  female  35.0      1   \n",
       "4                             Allen, Mr. William Henry    male  35.0      0   \n",
       "..                                                 ...     ...   ...    ...   \n",
       "886                              Montvila, Rev. Juozas    male  27.0      0   \n",
       "887                       Graham, Miss. Margaret Edith  female  19.0      0   \n",
       "888           Johnston, Miss. Catherine Helen \"Carrie\"  female   NaN      1   \n",
       "889                              Behr, Mr. Karl Howell    male  26.0      0   \n",
       "890                                Dooley, Mr. Patrick    male  32.0      0   \n",
       "\n",
       "     Parch            Ticket     Fare Cabin Embarked  \n",
       "0        0         A/5 21171   7.2500   NaN        S  \n",
       "1        0          PC 17599  71.2833   C85        C  \n",
       "2        0  STON/O2. 3101282   7.9250   NaN        S  \n",
       "3        0            113803  53.1000  C123        S  \n",
       "4        0            373450   8.0500   NaN        S  \n",
       "..     ...               ...      ...   ...      ...  \n",
       "886      0            211536  13.0000   NaN        S  \n",
       "887      0            112053  30.0000   B42        S  \n",
       "888      2        W./C. 6607  23.4500   NaN        S  \n",
       "889      0            111369  30.0000  C148        C  \n",
       "890      0            370376   7.7500   NaN        Q  \n",
       "\n",
       "[891 rows x 12 columns]"
      ]
     },
     "execution_count": 2,
     "metadata": {},
     "output_type": "execute_result"
    }
   ],
   "source": [
    "data = pd.read_csv(\"/kaggle/input/titanic/train.csv\")\n",
    "data"
   ]
  },
  {
   "cell_type": "code",
   "execution_count": 3,
   "id": "68c097ec",
   "metadata": {
    "execution": {
     "iopub.execute_input": "2023-06-22T09:41:06.046012Z",
     "iopub.status.busy": "2023-06-22T09:41:06.045637Z",
     "iopub.status.idle": "2023-06-22T09:41:06.071997Z",
     "shell.execute_reply": "2023-06-22T09:41:06.071130Z"
    },
    "papermill": {
     "duration": 0.038113,
     "end_time": "2023-06-22T09:41:06.074260",
     "exception": false,
     "start_time": "2023-06-22T09:41:06.036147",
     "status": "completed"
    },
    "tags": []
   },
   "outputs": [
    {
     "data": {
      "text/html": [
       "<div>\n",
       "<style scoped>\n",
       "    .dataframe tbody tr th:only-of-type {\n",
       "        vertical-align: middle;\n",
       "    }\n",
       "\n",
       "    .dataframe tbody tr th {\n",
       "        vertical-align: top;\n",
       "    }\n",
       "\n",
       "    .dataframe thead th {\n",
       "        text-align: right;\n",
       "    }\n",
       "</style>\n",
       "<table border=\"1\" class=\"dataframe\">\n",
       "  <thead>\n",
       "    <tr style=\"text-align: right;\">\n",
       "      <th></th>\n",
       "      <th>PassengerId</th>\n",
       "      <th>Pclass</th>\n",
       "      <th>Name</th>\n",
       "      <th>Sex</th>\n",
       "      <th>Age</th>\n",
       "      <th>SibSp</th>\n",
       "      <th>Parch</th>\n",
       "      <th>Ticket</th>\n",
       "      <th>Fare</th>\n",
       "      <th>Cabin</th>\n",
       "      <th>Embarked</th>\n",
       "    </tr>\n",
       "  </thead>\n",
       "  <tbody>\n",
       "    <tr>\n",
       "      <th>0</th>\n",
       "      <td>892</td>\n",
       "      <td>3</td>\n",
       "      <td>Kelly, Mr. James</td>\n",
       "      <td>male</td>\n",
       "      <td>34.5</td>\n",
       "      <td>0</td>\n",
       "      <td>0</td>\n",
       "      <td>330911</td>\n",
       "      <td>7.8292</td>\n",
       "      <td>NaN</td>\n",
       "      <td>Q</td>\n",
       "    </tr>\n",
       "    <tr>\n",
       "      <th>1</th>\n",
       "      <td>893</td>\n",
       "      <td>3</td>\n",
       "      <td>Wilkes, Mrs. James (Ellen Needs)</td>\n",
       "      <td>female</td>\n",
       "      <td>47.0</td>\n",
       "      <td>1</td>\n",
       "      <td>0</td>\n",
       "      <td>363272</td>\n",
       "      <td>7.0000</td>\n",
       "      <td>NaN</td>\n",
       "      <td>S</td>\n",
       "    </tr>\n",
       "    <tr>\n",
       "      <th>2</th>\n",
       "      <td>894</td>\n",
       "      <td>2</td>\n",
       "      <td>Myles, Mr. Thomas Francis</td>\n",
       "      <td>male</td>\n",
       "      <td>62.0</td>\n",
       "      <td>0</td>\n",
       "      <td>0</td>\n",
       "      <td>240276</td>\n",
       "      <td>9.6875</td>\n",
       "      <td>NaN</td>\n",
       "      <td>Q</td>\n",
       "    </tr>\n",
       "    <tr>\n",
       "      <th>3</th>\n",
       "      <td>895</td>\n",
       "      <td>3</td>\n",
       "      <td>Wirz, Mr. Albert</td>\n",
       "      <td>male</td>\n",
       "      <td>27.0</td>\n",
       "      <td>0</td>\n",
       "      <td>0</td>\n",
       "      <td>315154</td>\n",
       "      <td>8.6625</td>\n",
       "      <td>NaN</td>\n",
       "      <td>S</td>\n",
       "    </tr>\n",
       "    <tr>\n",
       "      <th>4</th>\n",
       "      <td>896</td>\n",
       "      <td>3</td>\n",
       "      <td>Hirvonen, Mrs. Alexander (Helga E Lindqvist)</td>\n",
       "      <td>female</td>\n",
       "      <td>22.0</td>\n",
       "      <td>1</td>\n",
       "      <td>1</td>\n",
       "      <td>3101298</td>\n",
       "      <td>12.2875</td>\n",
       "      <td>NaN</td>\n",
       "      <td>S</td>\n",
       "    </tr>\n",
       "    <tr>\n",
       "      <th>...</th>\n",
       "      <td>...</td>\n",
       "      <td>...</td>\n",
       "      <td>...</td>\n",
       "      <td>...</td>\n",
       "      <td>...</td>\n",
       "      <td>...</td>\n",
       "      <td>...</td>\n",
       "      <td>...</td>\n",
       "      <td>...</td>\n",
       "      <td>...</td>\n",
       "      <td>...</td>\n",
       "    </tr>\n",
       "    <tr>\n",
       "      <th>413</th>\n",
       "      <td>1305</td>\n",
       "      <td>3</td>\n",
       "      <td>Spector, Mr. Woolf</td>\n",
       "      <td>male</td>\n",
       "      <td>NaN</td>\n",
       "      <td>0</td>\n",
       "      <td>0</td>\n",
       "      <td>A.5. 3236</td>\n",
       "      <td>8.0500</td>\n",
       "      <td>NaN</td>\n",
       "      <td>S</td>\n",
       "    </tr>\n",
       "    <tr>\n",
       "      <th>414</th>\n",
       "      <td>1306</td>\n",
       "      <td>1</td>\n",
       "      <td>Oliva y Ocana, Dona. Fermina</td>\n",
       "      <td>female</td>\n",
       "      <td>39.0</td>\n",
       "      <td>0</td>\n",
       "      <td>0</td>\n",
       "      <td>PC 17758</td>\n",
       "      <td>108.9000</td>\n",
       "      <td>C105</td>\n",
       "      <td>C</td>\n",
       "    </tr>\n",
       "    <tr>\n",
       "      <th>415</th>\n",
       "      <td>1307</td>\n",
       "      <td>3</td>\n",
       "      <td>Saether, Mr. Simon Sivertsen</td>\n",
       "      <td>male</td>\n",
       "      <td>38.5</td>\n",
       "      <td>0</td>\n",
       "      <td>0</td>\n",
       "      <td>SOTON/O.Q. 3101262</td>\n",
       "      <td>7.2500</td>\n",
       "      <td>NaN</td>\n",
       "      <td>S</td>\n",
       "    </tr>\n",
       "    <tr>\n",
       "      <th>416</th>\n",
       "      <td>1308</td>\n",
       "      <td>3</td>\n",
       "      <td>Ware, Mr. Frederick</td>\n",
       "      <td>male</td>\n",
       "      <td>NaN</td>\n",
       "      <td>0</td>\n",
       "      <td>0</td>\n",
       "      <td>359309</td>\n",
       "      <td>8.0500</td>\n",
       "      <td>NaN</td>\n",
       "      <td>S</td>\n",
       "    </tr>\n",
       "    <tr>\n",
       "      <th>417</th>\n",
       "      <td>1309</td>\n",
       "      <td>3</td>\n",
       "      <td>Peter, Master. Michael J</td>\n",
       "      <td>male</td>\n",
       "      <td>NaN</td>\n",
       "      <td>1</td>\n",
       "      <td>1</td>\n",
       "      <td>2668</td>\n",
       "      <td>22.3583</td>\n",
       "      <td>NaN</td>\n",
       "      <td>C</td>\n",
       "    </tr>\n",
       "  </tbody>\n",
       "</table>\n",
       "<p>418 rows × 11 columns</p>\n",
       "</div>"
      ],
      "text/plain": [
       "     PassengerId  Pclass                                          Name  \\\n",
       "0            892       3                              Kelly, Mr. James   \n",
       "1            893       3              Wilkes, Mrs. James (Ellen Needs)   \n",
       "2            894       2                     Myles, Mr. Thomas Francis   \n",
       "3            895       3                              Wirz, Mr. Albert   \n",
       "4            896       3  Hirvonen, Mrs. Alexander (Helga E Lindqvist)   \n",
       "..           ...     ...                                           ...   \n",
       "413         1305       3                            Spector, Mr. Woolf   \n",
       "414         1306       1                  Oliva y Ocana, Dona. Fermina   \n",
       "415         1307       3                  Saether, Mr. Simon Sivertsen   \n",
       "416         1308       3                           Ware, Mr. Frederick   \n",
       "417         1309       3                      Peter, Master. Michael J   \n",
       "\n",
       "        Sex   Age  SibSp  Parch              Ticket      Fare Cabin Embarked  \n",
       "0      male  34.5      0      0              330911    7.8292   NaN        Q  \n",
       "1    female  47.0      1      0              363272    7.0000   NaN        S  \n",
       "2      male  62.0      0      0              240276    9.6875   NaN        Q  \n",
       "3      male  27.0      0      0              315154    8.6625   NaN        S  \n",
       "4    female  22.0      1      1             3101298   12.2875   NaN        S  \n",
       "..      ...   ...    ...    ...                 ...       ...   ...      ...  \n",
       "413    male   NaN      0      0           A.5. 3236    8.0500   NaN        S  \n",
       "414  female  39.0      0      0            PC 17758  108.9000  C105        C  \n",
       "415    male  38.5      0      0  SOTON/O.Q. 3101262    7.2500   NaN        S  \n",
       "416    male   NaN      0      0              359309    8.0500   NaN        S  \n",
       "417    male   NaN      1      1                2668   22.3583   NaN        C  \n",
       "\n",
       "[418 rows x 11 columns]"
      ]
     },
     "execution_count": 3,
     "metadata": {},
     "output_type": "execute_result"
    }
   ],
   "source": [
    "data_test = pd.read_csv(\"/kaggle/input/titanic/test.csv\")\n",
    "data_test"
   ]
  },
  {
   "cell_type": "code",
   "execution_count": 4,
   "id": "52b618cd",
   "metadata": {
    "execution": {
     "iopub.execute_input": "2023-06-22T09:41:06.094176Z",
     "iopub.status.busy": "2023-06-22T09:41:06.093739Z",
     "iopub.status.idle": "2023-06-22T09:41:06.103557Z",
     "shell.execute_reply": "2023-06-22T09:41:06.102660Z"
    },
    "papermill": {
     "duration": 0.02222,
     "end_time": "2023-06-22T09:41:06.105784",
     "exception": false,
     "start_time": "2023-06-22T09:41:06.083564",
     "status": "completed"
    },
    "tags": []
   },
   "outputs": [
    {
     "data": {
      "text/plain": [
       "PassengerId      0\n",
       "Survived         0\n",
       "Pclass           0\n",
       "Name             0\n",
       "Sex              0\n",
       "Age            177\n",
       "SibSp            0\n",
       "Parch            0\n",
       "Ticket           0\n",
       "Fare             0\n",
       "Cabin          687\n",
       "Embarked         2\n",
       "dtype: int64"
      ]
     },
     "execution_count": 4,
     "metadata": {},
     "output_type": "execute_result"
    }
   ],
   "source": [
    "data.isnull().sum()"
   ]
  },
  {
   "cell_type": "code",
   "execution_count": 5,
   "id": "41510777",
   "metadata": {
    "execution": {
     "iopub.execute_input": "2023-06-22T09:41:06.124146Z",
     "iopub.status.busy": "2023-06-22T09:41:06.123699Z",
     "iopub.status.idle": "2023-06-22T09:41:07.463993Z",
     "shell.execute_reply": "2023-06-22T09:41:07.462651Z"
    },
    "papermill": {
     "duration": 1.35266,
     "end_time": "2023-06-22T09:41:07.466707",
     "exception": false,
     "start_time": "2023-06-22T09:41:06.114047",
     "status": "completed"
    },
    "tags": []
   },
   "outputs": [],
   "source": [
    "from sklearn import preprocessing\n",
    "le  = preprocessing.LabelEncoder()"
   ]
  },
  {
   "cell_type": "code",
   "execution_count": 6,
   "id": "26537893",
   "metadata": {
    "execution": {
     "iopub.execute_input": "2023-06-22T09:41:07.484795Z",
     "iopub.status.busy": "2023-06-22T09:41:07.484429Z",
     "iopub.status.idle": "2023-06-22T09:41:07.495621Z",
     "shell.execute_reply": "2023-06-22T09:41:07.494452Z"
    },
    "papermill": {
     "duration": 0.023123,
     "end_time": "2023-06-22T09:41:07.498111",
     "exception": false,
     "start_time": "2023-06-22T09:41:07.474988",
     "status": "completed"
    },
    "tags": []
   },
   "outputs": [],
   "source": [
    "def lb(col):\n",
    "    data[col] = le.fit_transform(data[col])\n",
    "lb('Sex')\n",
    "lb('Embarked')\n",
    "lb('Cabin')\n",
    "lb('Name')"
   ]
  },
  {
   "cell_type": "code",
   "execution_count": 7,
   "id": "4c626281",
   "metadata": {
    "execution": {
     "iopub.execute_input": "2023-06-22T09:41:07.516365Z",
     "iopub.status.busy": "2023-06-22T09:41:07.515923Z",
     "iopub.status.idle": "2023-06-22T09:41:07.524846Z",
     "shell.execute_reply": "2023-06-22T09:41:07.523714Z"
    },
    "papermill": {
     "duration": 0.021217,
     "end_time": "2023-06-22T09:41:07.527536",
     "exception": false,
     "start_time": "2023-06-22T09:41:07.506319",
     "status": "completed"
    },
    "tags": []
   },
   "outputs": [],
   "source": [
    "def lb(col):\n",
    "    data_test[col] = le.fit_transform(data_test[col])\n",
    "lb('Sex')\n",
    "lb('Embarked')\n",
    "lb('Cabin')\n",
    "lb('Name')"
   ]
  },
  {
   "cell_type": "code",
   "execution_count": 8,
   "id": "469b3fce",
   "metadata": {
    "execution": {
     "iopub.execute_input": "2023-06-22T09:41:07.545685Z",
     "iopub.status.busy": "2023-06-22T09:41:07.545266Z",
     "iopub.status.idle": "2023-06-22T09:41:07.567099Z",
     "shell.execute_reply": "2023-06-22T09:41:07.565913Z"
    },
    "papermill": {
     "duration": 0.033585,
     "end_time": "2023-06-22T09:41:07.569303",
     "exception": false,
     "start_time": "2023-06-22T09:41:07.535718",
     "status": "completed"
    },
    "tags": []
   },
   "outputs": [
    {
     "data": {
      "text/html": [
       "<div>\n",
       "<style scoped>\n",
       "    .dataframe tbody tr th:only-of-type {\n",
       "        vertical-align: middle;\n",
       "    }\n",
       "\n",
       "    .dataframe tbody tr th {\n",
       "        vertical-align: top;\n",
       "    }\n",
       "\n",
       "    .dataframe thead th {\n",
       "        text-align: right;\n",
       "    }\n",
       "</style>\n",
       "<table border=\"1\" class=\"dataframe\">\n",
       "  <thead>\n",
       "    <tr style=\"text-align: right;\">\n",
       "      <th></th>\n",
       "      <th>PassengerId</th>\n",
       "      <th>Survived</th>\n",
       "      <th>Pclass</th>\n",
       "      <th>Name</th>\n",
       "      <th>Sex</th>\n",
       "      <th>Age</th>\n",
       "      <th>SibSp</th>\n",
       "      <th>Parch</th>\n",
       "      <th>Ticket</th>\n",
       "      <th>Fare</th>\n",
       "      <th>Cabin</th>\n",
       "      <th>Embarked</th>\n",
       "    </tr>\n",
       "  </thead>\n",
       "  <tbody>\n",
       "    <tr>\n",
       "      <th>0</th>\n",
       "      <td>1</td>\n",
       "      <td>0</td>\n",
       "      <td>3</td>\n",
       "      <td>108</td>\n",
       "      <td>1</td>\n",
       "      <td>22.0</td>\n",
       "      <td>1</td>\n",
       "      <td>0</td>\n",
       "      <td>A/5 21171</td>\n",
       "      <td>7.2500</td>\n",
       "      <td>147</td>\n",
       "      <td>2</td>\n",
       "    </tr>\n",
       "    <tr>\n",
       "      <th>1</th>\n",
       "      <td>2</td>\n",
       "      <td>1</td>\n",
       "      <td>1</td>\n",
       "      <td>190</td>\n",
       "      <td>0</td>\n",
       "      <td>38.0</td>\n",
       "      <td>1</td>\n",
       "      <td>0</td>\n",
       "      <td>PC 17599</td>\n",
       "      <td>71.2833</td>\n",
       "      <td>81</td>\n",
       "      <td>0</td>\n",
       "    </tr>\n",
       "    <tr>\n",
       "      <th>2</th>\n",
       "      <td>3</td>\n",
       "      <td>1</td>\n",
       "      <td>3</td>\n",
       "      <td>353</td>\n",
       "      <td>0</td>\n",
       "      <td>26.0</td>\n",
       "      <td>0</td>\n",
       "      <td>0</td>\n",
       "      <td>STON/O2. 3101282</td>\n",
       "      <td>7.9250</td>\n",
       "      <td>147</td>\n",
       "      <td>2</td>\n",
       "    </tr>\n",
       "    <tr>\n",
       "      <th>3</th>\n",
       "      <td>4</td>\n",
       "      <td>1</td>\n",
       "      <td>1</td>\n",
       "      <td>272</td>\n",
       "      <td>0</td>\n",
       "      <td>35.0</td>\n",
       "      <td>1</td>\n",
       "      <td>0</td>\n",
       "      <td>113803</td>\n",
       "      <td>53.1000</td>\n",
       "      <td>55</td>\n",
       "      <td>2</td>\n",
       "    </tr>\n",
       "    <tr>\n",
       "      <th>4</th>\n",
       "      <td>5</td>\n",
       "      <td>0</td>\n",
       "      <td>3</td>\n",
       "      <td>15</td>\n",
       "      <td>1</td>\n",
       "      <td>35.0</td>\n",
       "      <td>0</td>\n",
       "      <td>0</td>\n",
       "      <td>373450</td>\n",
       "      <td>8.0500</td>\n",
       "      <td>147</td>\n",
       "      <td>2</td>\n",
       "    </tr>\n",
       "    <tr>\n",
       "      <th>...</th>\n",
       "      <td>...</td>\n",
       "      <td>...</td>\n",
       "      <td>...</td>\n",
       "      <td>...</td>\n",
       "      <td>...</td>\n",
       "      <td>...</td>\n",
       "      <td>...</td>\n",
       "      <td>...</td>\n",
       "      <td>...</td>\n",
       "      <td>...</td>\n",
       "      <td>...</td>\n",
       "      <td>...</td>\n",
       "    </tr>\n",
       "    <tr>\n",
       "      <th>886</th>\n",
       "      <td>887</td>\n",
       "      <td>0</td>\n",
       "      <td>2</td>\n",
       "      <td>548</td>\n",
       "      <td>1</td>\n",
       "      <td>27.0</td>\n",
       "      <td>0</td>\n",
       "      <td>0</td>\n",
       "      <td>211536</td>\n",
       "      <td>13.0000</td>\n",
       "      <td>147</td>\n",
       "      <td>2</td>\n",
       "    </tr>\n",
       "    <tr>\n",
       "      <th>887</th>\n",
       "      <td>888</td>\n",
       "      <td>1</td>\n",
       "      <td>1</td>\n",
       "      <td>303</td>\n",
       "      <td>0</td>\n",
       "      <td>19.0</td>\n",
       "      <td>0</td>\n",
       "      <td>0</td>\n",
       "      <td>112053</td>\n",
       "      <td>30.0000</td>\n",
       "      <td>30</td>\n",
       "      <td>2</td>\n",
       "    </tr>\n",
       "    <tr>\n",
       "      <th>888</th>\n",
       "      <td>889</td>\n",
       "      <td>0</td>\n",
       "      <td>3</td>\n",
       "      <td>413</td>\n",
       "      <td>0</td>\n",
       "      <td>NaN</td>\n",
       "      <td>1</td>\n",
       "      <td>2</td>\n",
       "      <td>W./C. 6607</td>\n",
       "      <td>23.4500</td>\n",
       "      <td>147</td>\n",
       "      <td>2</td>\n",
       "    </tr>\n",
       "    <tr>\n",
       "      <th>889</th>\n",
       "      <td>890</td>\n",
       "      <td>1</td>\n",
       "      <td>1</td>\n",
       "      <td>81</td>\n",
       "      <td>1</td>\n",
       "      <td>26.0</td>\n",
       "      <td>0</td>\n",
       "      <td>0</td>\n",
       "      <td>111369</td>\n",
       "      <td>30.0000</td>\n",
       "      <td>60</td>\n",
       "      <td>0</td>\n",
       "    </tr>\n",
       "    <tr>\n",
       "      <th>890</th>\n",
       "      <td>891</td>\n",
       "      <td>0</td>\n",
       "      <td>3</td>\n",
       "      <td>220</td>\n",
       "      <td>1</td>\n",
       "      <td>32.0</td>\n",
       "      <td>0</td>\n",
       "      <td>0</td>\n",
       "      <td>370376</td>\n",
       "      <td>7.7500</td>\n",
       "      <td>147</td>\n",
       "      <td>1</td>\n",
       "    </tr>\n",
       "  </tbody>\n",
       "</table>\n",
       "<p>891 rows × 12 columns</p>\n",
       "</div>"
      ],
      "text/plain": [
       "     PassengerId  Survived  Pclass  Name  Sex   Age  SibSp  Parch  \\\n",
       "0              1         0       3   108    1  22.0      1      0   \n",
       "1              2         1       1   190    0  38.0      1      0   \n",
       "2              3         1       3   353    0  26.0      0      0   \n",
       "3              4         1       1   272    0  35.0      1      0   \n",
       "4              5         0       3    15    1  35.0      0      0   \n",
       "..           ...       ...     ...   ...  ...   ...    ...    ...   \n",
       "886          887         0       2   548    1  27.0      0      0   \n",
       "887          888         1       1   303    0  19.0      0      0   \n",
       "888          889         0       3   413    0   NaN      1      2   \n",
       "889          890         1       1    81    1  26.0      0      0   \n",
       "890          891         0       3   220    1  32.0      0      0   \n",
       "\n",
       "               Ticket     Fare  Cabin  Embarked  \n",
       "0           A/5 21171   7.2500    147         2  \n",
       "1            PC 17599  71.2833     81         0  \n",
       "2    STON/O2. 3101282   7.9250    147         2  \n",
       "3              113803  53.1000     55         2  \n",
       "4              373450   8.0500    147         2  \n",
       "..                ...      ...    ...       ...  \n",
       "886            211536  13.0000    147         2  \n",
       "887            112053  30.0000     30         2  \n",
       "888        W./C. 6607  23.4500    147         2  \n",
       "889            111369  30.0000     60         0  \n",
       "890            370376   7.7500    147         1  \n",
       "\n",
       "[891 rows x 12 columns]"
      ]
     },
     "execution_count": 8,
     "metadata": {},
     "output_type": "execute_result"
    }
   ],
   "source": [
    "data"
   ]
  },
  {
   "cell_type": "code",
   "execution_count": 9,
   "id": "775b88dd",
   "metadata": {
    "execution": {
     "iopub.execute_input": "2023-06-22T09:41:07.588326Z",
     "iopub.status.busy": "2023-06-22T09:41:07.587933Z",
     "iopub.status.idle": "2023-06-22T09:41:07.596293Z",
     "shell.execute_reply": "2023-06-22T09:41:07.595000Z"
    },
    "papermill": {
     "duration": 0.020321,
     "end_time": "2023-06-22T09:41:07.598487",
     "exception": false,
     "start_time": "2023-06-22T09:41:07.578166",
     "status": "completed"
    },
    "tags": []
   },
   "outputs": [],
   "source": [
    "data = data.drop(['Name','Ticket'], axis=1)"
   ]
  },
  {
   "cell_type": "code",
   "execution_count": 10,
   "id": "0f0fdd6a",
   "metadata": {
    "execution": {
     "iopub.execute_input": "2023-06-22T09:41:07.617120Z",
     "iopub.status.busy": "2023-06-22T09:41:07.616731Z",
     "iopub.status.idle": "2023-06-22T09:41:07.622736Z",
     "shell.execute_reply": "2023-06-22T09:41:07.621597Z"
    },
    "papermill": {
     "duration": 0.018013,
     "end_time": "2023-06-22T09:41:07.624923",
     "exception": false,
     "start_time": "2023-06-22T09:41:07.606910",
     "status": "completed"
    },
    "tags": []
   },
   "outputs": [],
   "source": [
    "data_test_1=data_test.drop(['Name','Ticket'],axis=1)"
   ]
  },
  {
   "cell_type": "code",
   "execution_count": 11,
   "id": "7a1c8152",
   "metadata": {
    "execution": {
     "iopub.execute_input": "2023-06-22T09:41:07.644192Z",
     "iopub.status.busy": "2023-06-22T09:41:07.643265Z",
     "iopub.status.idle": "2023-06-22T09:41:07.655225Z",
     "shell.execute_reply": "2023-06-22T09:41:07.654276Z"
    },
    "papermill": {
     "duration": 0.024094,
     "end_time": "2023-06-22T09:41:07.657552",
     "exception": false,
     "start_time": "2023-06-22T09:41:07.633458",
     "status": "completed"
    },
    "tags": []
   },
   "outputs": [],
   "source": [
    "data_test_1.fillna(data_test_1.mean(numeric_only=True).round(1), inplace=True)"
   ]
  },
  {
   "cell_type": "code",
   "execution_count": 12,
   "id": "9ead045c",
   "metadata": {
    "execution": {
     "iopub.execute_input": "2023-06-22T09:41:07.676580Z",
     "iopub.status.busy": "2023-06-22T09:41:07.676189Z",
     "iopub.status.idle": "2023-06-22T09:41:07.684440Z",
     "shell.execute_reply": "2023-06-22T09:41:07.683554Z"
    },
    "papermill": {
     "duration": 0.019969,
     "end_time": "2023-06-22T09:41:07.686278",
     "exception": false,
     "start_time": "2023-06-22T09:41:07.666309",
     "status": "completed"
    },
    "tags": []
   },
   "outputs": [],
   "source": [
    "data_test_1 = preprocessing.normalize(data_test_1,axis=1)"
   ]
  },
  {
   "cell_type": "code",
   "execution_count": 13,
   "id": "5e478b71",
   "metadata": {
    "execution": {
     "iopub.execute_input": "2023-06-22T09:41:07.705895Z",
     "iopub.status.busy": "2023-06-22T09:41:07.704892Z",
     "iopub.status.idle": "2023-06-22T09:41:07.728031Z",
     "shell.execute_reply": "2023-06-22T09:41:07.726824Z"
    },
    "papermill": {
     "duration": 0.035857,
     "end_time": "2023-06-22T09:41:07.730591",
     "exception": false,
     "start_time": "2023-06-22T09:41:07.694734",
     "status": "completed"
    },
    "tags": []
   },
   "outputs": [
    {
     "data": {
      "text/html": [
       "<div>\n",
       "<style scoped>\n",
       "    .dataframe tbody tr th:only-of-type {\n",
       "        vertical-align: middle;\n",
       "    }\n",
       "\n",
       "    .dataframe tbody tr th {\n",
       "        vertical-align: top;\n",
       "    }\n",
       "\n",
       "    .dataframe thead th {\n",
       "        text-align: right;\n",
       "    }\n",
       "</style>\n",
       "<table border=\"1\" class=\"dataframe\">\n",
       "  <thead>\n",
       "    <tr style=\"text-align: right;\">\n",
       "      <th></th>\n",
       "      <th>PassengerId</th>\n",
       "      <th>Survived</th>\n",
       "      <th>Pclass</th>\n",
       "      <th>Sex</th>\n",
       "      <th>Age</th>\n",
       "      <th>SibSp</th>\n",
       "      <th>Parch</th>\n",
       "      <th>Fare</th>\n",
       "      <th>Cabin</th>\n",
       "      <th>Embarked</th>\n",
       "    </tr>\n",
       "  </thead>\n",
       "  <tbody>\n",
       "    <tr>\n",
       "      <th>0</th>\n",
       "      <td>1</td>\n",
       "      <td>0</td>\n",
       "      <td>3</td>\n",
       "      <td>1</td>\n",
       "      <td>22.0</td>\n",
       "      <td>1</td>\n",
       "      <td>0</td>\n",
       "      <td>7.2500</td>\n",
       "      <td>147</td>\n",
       "      <td>2</td>\n",
       "    </tr>\n",
       "    <tr>\n",
       "      <th>1</th>\n",
       "      <td>2</td>\n",
       "      <td>1</td>\n",
       "      <td>1</td>\n",
       "      <td>0</td>\n",
       "      <td>38.0</td>\n",
       "      <td>1</td>\n",
       "      <td>0</td>\n",
       "      <td>71.2833</td>\n",
       "      <td>81</td>\n",
       "      <td>0</td>\n",
       "    </tr>\n",
       "    <tr>\n",
       "      <th>2</th>\n",
       "      <td>3</td>\n",
       "      <td>1</td>\n",
       "      <td>3</td>\n",
       "      <td>0</td>\n",
       "      <td>26.0</td>\n",
       "      <td>0</td>\n",
       "      <td>0</td>\n",
       "      <td>7.9250</td>\n",
       "      <td>147</td>\n",
       "      <td>2</td>\n",
       "    </tr>\n",
       "    <tr>\n",
       "      <th>3</th>\n",
       "      <td>4</td>\n",
       "      <td>1</td>\n",
       "      <td>1</td>\n",
       "      <td>0</td>\n",
       "      <td>35.0</td>\n",
       "      <td>1</td>\n",
       "      <td>0</td>\n",
       "      <td>53.1000</td>\n",
       "      <td>55</td>\n",
       "      <td>2</td>\n",
       "    </tr>\n",
       "    <tr>\n",
       "      <th>4</th>\n",
       "      <td>5</td>\n",
       "      <td>0</td>\n",
       "      <td>3</td>\n",
       "      <td>1</td>\n",
       "      <td>35.0</td>\n",
       "      <td>0</td>\n",
       "      <td>0</td>\n",
       "      <td>8.0500</td>\n",
       "      <td>147</td>\n",
       "      <td>2</td>\n",
       "    </tr>\n",
       "    <tr>\n",
       "      <th>...</th>\n",
       "      <td>...</td>\n",
       "      <td>...</td>\n",
       "      <td>...</td>\n",
       "      <td>...</td>\n",
       "      <td>...</td>\n",
       "      <td>...</td>\n",
       "      <td>...</td>\n",
       "      <td>...</td>\n",
       "      <td>...</td>\n",
       "      <td>...</td>\n",
       "    </tr>\n",
       "    <tr>\n",
       "      <th>886</th>\n",
       "      <td>887</td>\n",
       "      <td>0</td>\n",
       "      <td>2</td>\n",
       "      <td>1</td>\n",
       "      <td>27.0</td>\n",
       "      <td>0</td>\n",
       "      <td>0</td>\n",
       "      <td>13.0000</td>\n",
       "      <td>147</td>\n",
       "      <td>2</td>\n",
       "    </tr>\n",
       "    <tr>\n",
       "      <th>887</th>\n",
       "      <td>888</td>\n",
       "      <td>1</td>\n",
       "      <td>1</td>\n",
       "      <td>0</td>\n",
       "      <td>19.0</td>\n",
       "      <td>0</td>\n",
       "      <td>0</td>\n",
       "      <td>30.0000</td>\n",
       "      <td>30</td>\n",
       "      <td>2</td>\n",
       "    </tr>\n",
       "    <tr>\n",
       "      <th>888</th>\n",
       "      <td>889</td>\n",
       "      <td>0</td>\n",
       "      <td>3</td>\n",
       "      <td>0</td>\n",
       "      <td>29.7</td>\n",
       "      <td>1</td>\n",
       "      <td>2</td>\n",
       "      <td>23.4500</td>\n",
       "      <td>147</td>\n",
       "      <td>2</td>\n",
       "    </tr>\n",
       "    <tr>\n",
       "      <th>889</th>\n",
       "      <td>890</td>\n",
       "      <td>1</td>\n",
       "      <td>1</td>\n",
       "      <td>1</td>\n",
       "      <td>26.0</td>\n",
       "      <td>0</td>\n",
       "      <td>0</td>\n",
       "      <td>30.0000</td>\n",
       "      <td>60</td>\n",
       "      <td>0</td>\n",
       "    </tr>\n",
       "    <tr>\n",
       "      <th>890</th>\n",
       "      <td>891</td>\n",
       "      <td>0</td>\n",
       "      <td>3</td>\n",
       "      <td>1</td>\n",
       "      <td>32.0</td>\n",
       "      <td>0</td>\n",
       "      <td>0</td>\n",
       "      <td>7.7500</td>\n",
       "      <td>147</td>\n",
       "      <td>1</td>\n",
       "    </tr>\n",
       "  </tbody>\n",
       "</table>\n",
       "<p>891 rows × 10 columns</p>\n",
       "</div>"
      ],
      "text/plain": [
       "     PassengerId  Survived  Pclass  Sex   Age  SibSp  Parch     Fare  Cabin  \\\n",
       "0              1         0       3    1  22.0      1      0   7.2500    147   \n",
       "1              2         1       1    0  38.0      1      0  71.2833     81   \n",
       "2              3         1       3    0  26.0      0      0   7.9250    147   \n",
       "3              4         1       1    0  35.0      1      0  53.1000     55   \n",
       "4              5         0       3    1  35.0      0      0   8.0500    147   \n",
       "..           ...       ...     ...  ...   ...    ...    ...      ...    ...   \n",
       "886          887         0       2    1  27.0      0      0  13.0000    147   \n",
       "887          888         1       1    0  19.0      0      0  30.0000     30   \n",
       "888          889         0       3    0  29.7      1      2  23.4500    147   \n",
       "889          890         1       1    1  26.0      0      0  30.0000     60   \n",
       "890          891         0       3    1  32.0      0      0   7.7500    147   \n",
       "\n",
       "     Embarked  \n",
       "0           2  \n",
       "1           0  \n",
       "2           2  \n",
       "3           2  \n",
       "4           2  \n",
       "..        ...  \n",
       "886         2  \n",
       "887         2  \n",
       "888         2  \n",
       "889         0  \n",
       "890         1  \n",
       "\n",
       "[891 rows x 10 columns]"
      ]
     },
     "execution_count": 13,
     "metadata": {},
     "output_type": "execute_result"
    }
   ],
   "source": [
    "data.fillna(data.mean(numeric_only=True).round(1), inplace=True)\n",
    "data"
   ]
  },
  {
   "cell_type": "code",
   "execution_count": 14,
   "id": "ab721c05",
   "metadata": {
    "execution": {
     "iopub.execute_input": "2023-06-22T09:41:07.750436Z",
     "iopub.status.busy": "2023-06-22T09:41:07.750043Z",
     "iopub.status.idle": "2023-06-22T09:41:07.755856Z",
     "shell.execute_reply": "2023-06-22T09:41:07.755068Z"
    },
    "papermill": {
     "duration": 0.018099,
     "end_time": "2023-06-22T09:41:07.757986",
     "exception": false,
     "start_time": "2023-06-22T09:41:07.739887",
     "status": "completed"
    },
    "tags": []
   },
   "outputs": [],
   "source": [
    "x = data.drop(['Survived'],axis=1)\n",
    "y = data['Survived']"
   ]
  },
  {
   "cell_type": "code",
   "execution_count": 15,
   "id": "0760f067",
   "metadata": {
    "execution": {
     "iopub.execute_input": "2023-06-22T09:41:07.777886Z",
     "iopub.status.busy": "2023-06-22T09:41:07.776970Z",
     "iopub.status.idle": "2023-06-22T09:41:07.794670Z",
     "shell.execute_reply": "2023-06-22T09:41:07.793532Z"
    },
    "papermill": {
     "duration": 0.030336,
     "end_time": "2023-06-22T09:41:07.797135",
     "exception": false,
     "start_time": "2023-06-22T09:41:07.766799",
     "status": "completed"
    },
    "tags": []
   },
   "outputs": [
    {
     "data": {
      "text/html": [
       "<div>\n",
       "<style scoped>\n",
       "    .dataframe tbody tr th:only-of-type {\n",
       "        vertical-align: middle;\n",
       "    }\n",
       "\n",
       "    .dataframe tbody tr th {\n",
       "        vertical-align: top;\n",
       "    }\n",
       "\n",
       "    .dataframe thead th {\n",
       "        text-align: right;\n",
       "    }\n",
       "</style>\n",
       "<table border=\"1\" class=\"dataframe\">\n",
       "  <thead>\n",
       "    <tr style=\"text-align: right;\">\n",
       "      <th></th>\n",
       "      <th>PassengerId</th>\n",
       "      <th>Pclass</th>\n",
       "      <th>Sex</th>\n",
       "      <th>Age</th>\n",
       "      <th>SibSp</th>\n",
       "      <th>Parch</th>\n",
       "      <th>Fare</th>\n",
       "      <th>Cabin</th>\n",
       "      <th>Embarked</th>\n",
       "    </tr>\n",
       "  </thead>\n",
       "  <tbody>\n",
       "    <tr>\n",
       "      <th>0</th>\n",
       "      <td>1</td>\n",
       "      <td>3</td>\n",
       "      <td>1</td>\n",
       "      <td>22.0</td>\n",
       "      <td>1</td>\n",
       "      <td>0</td>\n",
       "      <td>7.2500</td>\n",
       "      <td>147</td>\n",
       "      <td>2</td>\n",
       "    </tr>\n",
       "    <tr>\n",
       "      <th>1</th>\n",
       "      <td>2</td>\n",
       "      <td>1</td>\n",
       "      <td>0</td>\n",
       "      <td>38.0</td>\n",
       "      <td>1</td>\n",
       "      <td>0</td>\n",
       "      <td>71.2833</td>\n",
       "      <td>81</td>\n",
       "      <td>0</td>\n",
       "    </tr>\n",
       "    <tr>\n",
       "      <th>2</th>\n",
       "      <td>3</td>\n",
       "      <td>3</td>\n",
       "      <td>0</td>\n",
       "      <td>26.0</td>\n",
       "      <td>0</td>\n",
       "      <td>0</td>\n",
       "      <td>7.9250</td>\n",
       "      <td>147</td>\n",
       "      <td>2</td>\n",
       "    </tr>\n",
       "    <tr>\n",
       "      <th>3</th>\n",
       "      <td>4</td>\n",
       "      <td>1</td>\n",
       "      <td>0</td>\n",
       "      <td>35.0</td>\n",
       "      <td>1</td>\n",
       "      <td>0</td>\n",
       "      <td>53.1000</td>\n",
       "      <td>55</td>\n",
       "      <td>2</td>\n",
       "    </tr>\n",
       "    <tr>\n",
       "      <th>4</th>\n",
       "      <td>5</td>\n",
       "      <td>3</td>\n",
       "      <td>1</td>\n",
       "      <td>35.0</td>\n",
       "      <td>0</td>\n",
       "      <td>0</td>\n",
       "      <td>8.0500</td>\n",
       "      <td>147</td>\n",
       "      <td>2</td>\n",
       "    </tr>\n",
       "    <tr>\n",
       "      <th>...</th>\n",
       "      <td>...</td>\n",
       "      <td>...</td>\n",
       "      <td>...</td>\n",
       "      <td>...</td>\n",
       "      <td>...</td>\n",
       "      <td>...</td>\n",
       "      <td>...</td>\n",
       "      <td>...</td>\n",
       "      <td>...</td>\n",
       "    </tr>\n",
       "    <tr>\n",
       "      <th>886</th>\n",
       "      <td>887</td>\n",
       "      <td>2</td>\n",
       "      <td>1</td>\n",
       "      <td>27.0</td>\n",
       "      <td>0</td>\n",
       "      <td>0</td>\n",
       "      <td>13.0000</td>\n",
       "      <td>147</td>\n",
       "      <td>2</td>\n",
       "    </tr>\n",
       "    <tr>\n",
       "      <th>887</th>\n",
       "      <td>888</td>\n",
       "      <td>1</td>\n",
       "      <td>0</td>\n",
       "      <td>19.0</td>\n",
       "      <td>0</td>\n",
       "      <td>0</td>\n",
       "      <td>30.0000</td>\n",
       "      <td>30</td>\n",
       "      <td>2</td>\n",
       "    </tr>\n",
       "    <tr>\n",
       "      <th>888</th>\n",
       "      <td>889</td>\n",
       "      <td>3</td>\n",
       "      <td>0</td>\n",
       "      <td>29.7</td>\n",
       "      <td>1</td>\n",
       "      <td>2</td>\n",
       "      <td>23.4500</td>\n",
       "      <td>147</td>\n",
       "      <td>2</td>\n",
       "    </tr>\n",
       "    <tr>\n",
       "      <th>889</th>\n",
       "      <td>890</td>\n",
       "      <td>1</td>\n",
       "      <td>1</td>\n",
       "      <td>26.0</td>\n",
       "      <td>0</td>\n",
       "      <td>0</td>\n",
       "      <td>30.0000</td>\n",
       "      <td>60</td>\n",
       "      <td>0</td>\n",
       "    </tr>\n",
       "    <tr>\n",
       "      <th>890</th>\n",
       "      <td>891</td>\n",
       "      <td>3</td>\n",
       "      <td>1</td>\n",
       "      <td>32.0</td>\n",
       "      <td>0</td>\n",
       "      <td>0</td>\n",
       "      <td>7.7500</td>\n",
       "      <td>147</td>\n",
       "      <td>1</td>\n",
       "    </tr>\n",
       "  </tbody>\n",
       "</table>\n",
       "<p>891 rows × 9 columns</p>\n",
       "</div>"
      ],
      "text/plain": [
       "     PassengerId  Pclass  Sex   Age  SibSp  Parch     Fare  Cabin  Embarked\n",
       "0              1       3    1  22.0      1      0   7.2500    147         2\n",
       "1              2       1    0  38.0      1      0  71.2833     81         0\n",
       "2              3       3    0  26.0      0      0   7.9250    147         2\n",
       "3              4       1    0  35.0      1      0  53.1000     55         2\n",
       "4              5       3    1  35.0      0      0   8.0500    147         2\n",
       "..           ...     ...  ...   ...    ...    ...      ...    ...       ...\n",
       "886          887       2    1  27.0      0      0  13.0000    147         2\n",
       "887          888       1    0  19.0      0      0  30.0000     30         2\n",
       "888          889       3    0  29.7      1      2  23.4500    147         2\n",
       "889          890       1    1  26.0      0      0  30.0000     60         0\n",
       "890          891       3    1  32.0      0      0   7.7500    147         1\n",
       "\n",
       "[891 rows x 9 columns]"
      ]
     },
     "execution_count": 15,
     "metadata": {},
     "output_type": "execute_result"
    }
   ],
   "source": [
    "x"
   ]
  },
  {
   "cell_type": "code",
   "execution_count": 16,
   "id": "16c6342c",
   "metadata": {
    "execution": {
     "iopub.execute_input": "2023-06-22T09:41:07.817478Z",
     "iopub.status.busy": "2023-06-22T09:41:07.816507Z",
     "iopub.status.idle": "2023-06-22T09:41:07.823078Z",
     "shell.execute_reply": "2023-06-22T09:41:07.822201Z"
    },
    "papermill": {
     "duration": 0.018944,
     "end_time": "2023-06-22T09:41:07.825221",
     "exception": false,
     "start_time": "2023-06-22T09:41:07.806277",
     "status": "completed"
    },
    "tags": []
   },
   "outputs": [],
   "source": [
    "x = preprocessing.normalize(x,axis=1)"
   ]
  },
  {
   "cell_type": "code",
   "execution_count": 17,
   "id": "2b443cb5",
   "metadata": {
    "execution": {
     "iopub.execute_input": "2023-06-22T09:41:07.847284Z",
     "iopub.status.busy": "2023-06-22T09:41:07.846632Z",
     "iopub.status.idle": "2023-06-22T09:41:07.853004Z",
     "shell.execute_reply": "2023-06-22T09:41:07.851967Z"
    },
    "papermill": {
     "duration": 0.018815,
     "end_time": "2023-06-22T09:41:07.855028",
     "exception": false,
     "start_time": "2023-06-22T09:41:07.836213",
     "status": "completed"
    },
    "tags": []
   },
   "outputs": [
    {
     "data": {
      "text/plain": [
       "array([[0.00671738, 0.02015214, 0.00671738, ..., 0.04870099, 0.98745462,\n",
       "        0.01343476],\n",
       "       [0.01747921, 0.00873961, 0.        , ..., 0.62298799, 0.70790813,\n",
       "        0.        ],\n",
       "       [0.02005812, 0.02005812, 0.        , ..., 0.05298686, 0.98284771,\n",
       "        0.01337208],\n",
       "       ...,\n",
       "       [0.98572329, 0.0033264 , 0.        , ..., 0.02600136, 0.16299362,\n",
       "        0.0022176 ],\n",
       "       [0.99674741, 0.00111994, 0.00111994, ..., 0.03359823, 0.06719645,\n",
       "        0.        ],\n",
       "       [0.98600017, 0.00331987, 0.00110662, ..., 0.00857632, 0.16267343,\n",
       "        0.00110662]])"
      ]
     },
     "execution_count": 17,
     "metadata": {},
     "output_type": "execute_result"
    }
   ],
   "source": [
    "x"
   ]
  },
  {
   "cell_type": "code",
   "execution_count": 18,
   "id": "dd31b02c",
   "metadata": {
    "execution": {
     "iopub.execute_input": "2023-06-22T09:41:07.875114Z",
     "iopub.status.busy": "2023-06-22T09:41:07.874689Z",
     "iopub.status.idle": "2023-06-22T09:41:07.882095Z",
     "shell.execute_reply": "2023-06-22T09:41:07.881338Z"
    },
    "papermill": {
     "duration": 0.01998,
     "end_time": "2023-06-22T09:41:07.884150",
     "exception": false,
     "start_time": "2023-06-22T09:41:07.864170",
     "status": "completed"
    },
    "tags": []
   },
   "outputs": [
    {
     "data": {
      "text/plain": [
       "0      0\n",
       "1      1\n",
       "2      1\n",
       "3      1\n",
       "4      0\n",
       "      ..\n",
       "886    0\n",
       "887    1\n",
       "888    0\n",
       "889    1\n",
       "890    0\n",
       "Name: Survived, Length: 891, dtype: int64"
      ]
     },
     "execution_count": 18,
     "metadata": {},
     "output_type": "execute_result"
    }
   ],
   "source": [
    "y"
   ]
  },
  {
   "cell_type": "code",
   "execution_count": 19,
   "id": "bad8cc62",
   "metadata": {
    "execution": {
     "iopub.execute_input": "2023-06-22T09:41:07.905175Z",
     "iopub.status.busy": "2023-06-22T09:41:07.904416Z",
     "iopub.status.idle": "2023-06-22T09:41:08.656405Z",
     "shell.execute_reply": "2023-06-22T09:41:08.654991Z"
    },
    "papermill": {
     "duration": 0.765368,
     "end_time": "2023-06-22T09:41:08.659163",
     "exception": false,
     "start_time": "2023-06-22T09:41:07.893795",
     "status": "completed"
    },
    "tags": []
   },
   "outputs": [],
   "source": [
    "from sklearn.linear_model import LogisticRegression\n",
    "from sklearn.svm import SVC\n",
    "from sklearn.tree import DecisionTreeClassifier\n",
    "from sklearn.ensemble import RandomForestClassifier\n",
    "from sklearn.naive_bayes import GaussianNB\n",
    "from xgboost import XGBClassifier"
   ]
  },
  {
   "cell_type": "code",
   "execution_count": 20,
   "id": "cb3284ea",
   "metadata": {
    "execution": {
     "iopub.execute_input": "2023-06-22T09:41:08.681062Z",
     "iopub.status.busy": "2023-06-22T09:41:08.679895Z",
     "iopub.status.idle": "2023-06-22T09:41:08.690524Z",
     "shell.execute_reply": "2023-06-22T09:41:08.689635Z"
    },
    "papermill": {
     "duration": 0.024292,
     "end_time": "2023-06-22T09:41:08.693003",
     "exception": false,
     "start_time": "2023-06-22T09:41:08.668711",
     "status": "completed"
    },
    "tags": []
   },
   "outputs": [],
   "source": [
    "def logistic_model():\n",
    "    lr = LogisticRegression()\n",
    "    return lr\n",
    "\n",
    "def svm_model1():\n",
    "    svm = SVC(kernel='poly',C=1)\n",
    "    return svm\n",
    "def svm_model2():\n",
    "    svm = SVC(kernel='linear', C=10)\n",
    "    return svm\n",
    "def svm_model3():\n",
    "    svm = SVC(kernel='linear',C=1)\n",
    "    return svm\n",
    "def svm_model4():\n",
    "    svm = SVC(kernel='poly', C=100)\n",
    "    return svm\n",
    "def svm_model5():\n",
    "    svm = SVC(kernel='linear', C=100)\n",
    "    return svm\n",
    "def decisiontree_model1():\n",
    "    dt = DecisionTreeClassifier()\n",
    "    return dt\n",
    "def decisiontree_model2():\n",
    "    dt = DecisionTreeClassifier(max_depth=10)\n",
    "    return dt\n",
    "def decisiontree_model3():\n",
    "    dt = DecisionTreeClassifier(max_depth=10, max_features=5)\n",
    "    return dt\n",
    "def randomforest_model1():\n",
    "    rf = RandomForestClassifier(n_estimators=42, max_depth=10)\n",
    "    return rf\n",
    "def randomforest_model2():\n",
    "    rf = RandomForestClassifier(n_estimators=100, max_depth=5)\n",
    "    return rf\n",
    "def randomforest_model3():\n",
    "    rf = RandomForestClassifier(n_estimators=10, max_depth=50)\n",
    "    return rf\n",
    "def xgb_model1():\n",
    "    model = XGBClassifier()\n",
    "    return model\n",
    "def xgb_model2():\n",
    "    model = XGBClassifier(max_depth = 20, gamma = 50)\n",
    "    return model"
   ]
  },
  {
   "cell_type": "code",
   "execution_count": 21,
   "id": "3f742eb7",
   "metadata": {
    "execution": {
     "iopub.execute_input": "2023-06-22T09:41:08.713915Z",
     "iopub.status.busy": "2023-06-22T09:41:08.713146Z",
     "iopub.status.idle": "2023-06-22T09:41:08.720126Z",
     "shell.execute_reply": "2023-06-22T09:41:08.719233Z"
    },
    "papermill": {
     "duration": 0.020148,
     "end_time": "2023-06-22T09:41:08.722494",
     "exception": false,
     "start_time": "2023-06-22T09:41:08.702346",
     "status": "completed"
    },
    "tags": []
   },
   "outputs": [],
   "source": [
    "from sklearn.metrics import precision_score\n",
    "from sklearn.metrics import mean_squared_error\n",
    "from sklearn.metrics import r2_score\n",
    "from sklearn.metrics import accuracy_score \n",
    "\n",
    "def measure(y_test,y_pred):\n",
    "    accuracy = accuracy_score(y_test, y_pred)\n",
    "    print(\"Accuracy :\", round(accuracy*100,2))\n",
    "    precision = precision_score(y_test,y_pred, average=\"weighted\")\n",
    "    print(\"Precision :\", round(precision*100,2))"
   ]
  },
  {
   "cell_type": "code",
   "execution_count": 22,
   "id": "f7a72f0f",
   "metadata": {
    "execution": {
     "iopub.execute_input": "2023-06-22T09:41:08.743676Z",
     "iopub.status.busy": "2023-06-22T09:41:08.742908Z",
     "iopub.status.idle": "2023-06-22T09:41:08.767853Z",
     "shell.execute_reply": "2023-06-22T09:41:08.766618Z"
    },
    "papermill": {
     "duration": 0.038769,
     "end_time": "2023-06-22T09:41:08.770447",
     "exception": false,
     "start_time": "2023-06-22T09:41:08.731678",
     "status": "completed"
    },
    "tags": []
   },
   "outputs": [
    {
     "name": "stdout",
     "output_type": "stream",
     "text": [
      "Accuracy : 64.76\n",
      "Precision : 66.12\n"
     ]
    }
   ],
   "source": [
    "# Logistic regression\n",
    "\n",
    "lr = logistic_model()\n",
    "lr.fit(x, y)\n",
    "y_predict = lr.predict(x)\n",
    "measure(y,y_predict)\n"
   ]
  },
  {
   "cell_type": "code",
   "execution_count": 23,
   "id": "e4333315",
   "metadata": {
    "execution": {
     "iopub.execute_input": "2023-06-22T09:41:08.791674Z",
     "iopub.status.busy": "2023-06-22T09:41:08.791289Z",
     "iopub.status.idle": "2023-06-22T09:41:08.847435Z",
     "shell.execute_reply": "2023-06-22T09:41:08.846207Z"
    },
    "papermill": {
     "duration": 0.069911,
     "end_time": "2023-06-22T09:41:08.850093",
     "exception": false,
     "start_time": "2023-06-22T09:41:08.780182",
     "status": "completed"
    },
    "tags": []
   },
   "outputs": [
    {
     "name": "stdout",
     "output_type": "stream",
     "text": [
      "Accuracy : 67.0\n",
      "Precision : 69.48\n"
     ]
    }
   ],
   "source": [
    "model1 = svm_model1()\n",
    "model1.fit(x,y)\n",
    "y_pred2 = model1.predict(x)\n",
    "measure(y,y_pred2)"
   ]
  },
  {
   "cell_type": "code",
   "execution_count": 24,
   "id": "51387927",
   "metadata": {
    "execution": {
     "iopub.execute_input": "2023-06-22T09:41:08.873756Z",
     "iopub.status.busy": "2023-06-22T09:41:08.872012Z",
     "iopub.status.idle": "2023-06-22T09:41:08.957105Z",
     "shell.execute_reply": "2023-06-22T09:41:08.955441Z"
    },
    "papermill": {
     "duration": 0.099092,
     "end_time": "2023-06-22T09:41:08.959282",
     "exception": false,
     "start_time": "2023-06-22T09:41:08.860190",
     "status": "completed"
    },
    "tags": []
   },
   "outputs": [
    {
     "name": "stdout",
     "output_type": "stream",
     "text": [
      "Accuracy : 70.48\n",
      "Precision : 72.75\n"
     ]
    }
   ],
   "source": [
    "model4 = svm_model4()\n",
    "model4.fit(x, y)\n",
    "y_pred2_4 = model4.predict(x)\n",
    "measure(y,y_pred2_4)"
   ]
  },
  {
   "cell_type": "code",
   "execution_count": 25,
   "id": "0eeb87fd",
   "metadata": {
    "execution": {
     "iopub.execute_input": "2023-06-22T09:41:08.980778Z",
     "iopub.status.busy": "2023-06-22T09:41:08.979952Z",
     "iopub.status.idle": "2023-06-22T09:41:08.996487Z",
     "shell.execute_reply": "2023-06-22T09:41:08.995186Z"
    },
    "papermill": {
     "duration": 0.03054,
     "end_time": "2023-06-22T09:41:08.999328",
     "exception": false,
     "start_time": "2023-06-22T09:41:08.968788",
     "status": "completed"
    },
    "tags": []
   },
   "outputs": [],
   "source": [
    "dt = decisiontree_model1()\n",
    "dt.fit(x,y)\n",
    "y_pred_dt = dt.predict(data_test_1)\n",
    "# measure(y,y_pred_dt)"
   ]
  },
  {
   "cell_type": "code",
   "execution_count": 26,
   "id": "98ec02c9",
   "metadata": {
    "execution": {
     "iopub.execute_input": "2023-06-22T09:41:09.020290Z",
     "iopub.status.busy": "2023-06-22T09:41:09.019886Z",
     "iopub.status.idle": "2023-06-22T09:41:09.037135Z",
     "shell.execute_reply": "2023-06-22T09:41:09.035799Z"
    },
    "papermill": {
     "duration": 0.030547,
     "end_time": "2023-06-22T09:41:09.039482",
     "exception": false,
     "start_time": "2023-06-22T09:41:09.008935",
     "status": "completed"
    },
    "tags": []
   },
   "outputs": [
    {
     "name": "stdout",
     "output_type": "stream",
     "text": [
      "Accuracy : 92.7\n",
      "Precision : 92.7\n"
     ]
    }
   ],
   "source": [
    "dt2 = decisiontree_model2()\n",
    "dt2.fit(x,y)\n",
    "y_pred_dt2 = dt2.predict(x)\n",
    "measure(y,y_pred_dt2)"
   ]
  },
  {
   "cell_type": "code",
   "execution_count": 27,
   "id": "72e2971d",
   "metadata": {
    "execution": {
     "iopub.execute_input": "2023-06-22T09:41:09.060997Z",
     "iopub.status.busy": "2023-06-22T09:41:09.060627Z",
     "iopub.status.idle": "2023-06-22T09:41:09.209229Z",
     "shell.execute_reply": "2023-06-22T09:41:09.208281Z"
    },
    "papermill": {
     "duration": 0.162142,
     "end_time": "2023-06-22T09:41:09.211684",
     "exception": false,
     "start_time": "2023-06-22T09:41:09.049542",
     "status": "completed"
    },
    "tags": []
   },
   "outputs": [],
   "source": [
    "rf = randomforest_model1()\n",
    "rf.fit(x, y)\n",
    "y_pred_rf = rf.predict(data_test_1)\n",
    "# measure(y,y_pred_rf)"
   ]
  },
  {
   "cell_type": "code",
   "execution_count": 28,
   "id": "9f39659f",
   "metadata": {
    "execution": {
     "iopub.execute_input": "2023-06-22T09:41:09.232958Z",
     "iopub.status.busy": "2023-06-22T09:41:09.232244Z",
     "iopub.status.idle": "2023-06-22T09:41:09.398369Z",
     "shell.execute_reply": "2023-06-22T09:41:09.397463Z"
    },
    "papermill": {
     "duration": 0.179429,
     "end_time": "2023-06-22T09:41:09.400811",
     "exception": false,
     "start_time": "2023-06-22T09:41:09.221382",
     "status": "completed"
    },
    "tags": []
   },
   "outputs": [],
   "source": [
    "xgb = xgb_model1()\n",
    "xgb.fit(x,y)\n",
    "y_pred_xgb = xgb.predict(data_test_1)\n",
    "# measure(y,y_pred_xgb)"
   ]
  },
  {
   "cell_type": "code",
   "execution_count": 29,
   "id": "73c71f87",
   "metadata": {
    "execution": {
     "iopub.execute_input": "2023-06-22T09:41:09.423217Z",
     "iopub.status.busy": "2023-06-22T09:41:09.422610Z",
     "iopub.status.idle": "2023-06-22T09:41:09.428230Z",
     "shell.execute_reply": "2023-06-22T09:41:09.427239Z"
    },
    "papermill": {
     "duration": 0.019632,
     "end_time": "2023-06-22T09:41:09.430878",
     "exception": false,
     "start_time": "2023-06-22T09:41:09.411246",
     "status": "completed"
    },
    "tags": []
   },
   "outputs": [],
   "source": [
    "from sklearn.metrics import confusion_matrix\n",
    "import matplotlib.pyplot as plt\n",
    "def get_confusion_matrix(y_true, y_pred, name):\n",
    "    conf_mat = confusion_matrix(y_true, y_pred)\n",
    "    print(conf_mat)\n",
    "    plt.matshow(conf_mat, cmap=plt.cm.Blues)\n",
    "    plt.colorbar()\n",
    "    plt.xlabel('Predicted')\n",
    "    plt.ylabel('True')\n",
    "    plt.title('Confusion Matrix')\n",
    "    # plt.savefig(name+'.png', dpi=300, bbox_inches='tight')\n",
    "    plt.show()"
   ]
  },
  {
   "cell_type": "code",
   "execution_count": null,
   "id": "c6b7a319",
   "metadata": {
    "papermill": {
     "duration": 0.009387,
     "end_time": "2023-06-22T09:41:09.450202",
     "exception": false,
     "start_time": "2023-06-22T09:41:09.440815",
     "status": "completed"
    },
    "tags": []
   },
   "outputs": [],
   "source": []
  },
  {
   "cell_type": "code",
   "execution_count": 30,
   "id": "46d71065",
   "metadata": {
    "execution": {
     "iopub.execute_input": "2023-06-22T09:41:09.471912Z",
     "iopub.status.busy": "2023-06-22T09:41:09.471526Z",
     "iopub.status.idle": "2023-06-22T09:41:09.475667Z",
     "shell.execute_reply": "2023-06-22T09:41:09.474739Z"
    },
    "papermill": {
     "duration": 0.017018,
     "end_time": "2023-06-22T09:41:09.477597",
     "exception": false,
     "start_time": "2023-06-22T09:41:09.460579",
     "status": "completed"
    },
    "tags": []
   },
   "outputs": [],
   "source": [
    "# get_confusion_matrix(y,y_pred_rf, rf)"
   ]
  },
  {
   "cell_type": "code",
   "execution_count": 31,
   "id": "e6656dae",
   "metadata": {
    "execution": {
     "iopub.execute_input": "2023-06-22T09:41:09.498962Z",
     "iopub.status.busy": "2023-06-22T09:41:09.498604Z",
     "iopub.status.idle": "2023-06-22T09:41:09.511934Z",
     "shell.execute_reply": "2023-06-22T09:41:09.510588Z"
    },
    "papermill": {
     "duration": 0.027434,
     "end_time": "2023-06-22T09:41:09.514650",
     "exception": false,
     "start_time": "2023-06-22T09:41:09.487216",
     "status": "completed"
    },
    "tags": []
   },
   "outputs": [
    {
     "name": "stdout",
     "output_type": "stream",
     "text": [
      "Your submission was successfully saved!\n"
     ]
    }
   ],
   "source": [
    "output = pd.DataFrame({'PassengerId': data_test.PassengerId, 'Survived': y_pred_rf})\n",
    "output.to_csv('submission.csv', index=False)\n",
    "print(\"Your submission was successfully saved!\")"
   ]
  }
 ],
 "metadata": {
  "kernelspec": {
   "display_name": "Python 3",
   "language": "python",
   "name": "python3"
  },
  "language_info": {
   "codemirror_mode": {
    "name": "ipython",
    "version": 3
   },
   "file_extension": ".py",
   "mimetype": "text/x-python",
   "name": "python",
   "nbconvert_exporter": "python",
   "pygments_lexer": "ipython3",
   "version": "3.10.10"
  },
  "papermill": {
   "default_parameters": {},
   "duration": 16.647888,
   "end_time": "2023-06-22T09:41:10.548040",
   "environment_variables": {},
   "exception": null,
   "input_path": "__notebook__.ipynb",
   "output_path": "__notebook__.ipynb",
   "parameters": {},
   "start_time": "2023-06-22T09:40:53.900152",
   "version": "2.4.0"
  }
 },
 "nbformat": 4,
 "nbformat_minor": 5
}
